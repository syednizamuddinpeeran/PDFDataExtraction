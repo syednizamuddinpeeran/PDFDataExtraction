{
 "cells": [
  {
   "cell_type": "markdown",
   "metadata": {},
   "source": [
    "[samples](https://getsamplefiles.com/sample-document-files/pdf)"
   ]
  },
  {
   "cell_type": "code",
   "execution_count": 1,
   "metadata": {},
   "outputs": [],
   "source": [
    "import Loader,pdf"
   ]
  },
  {
   "cell_type": "code",
   "execution_count": 2,
   "metadata": {},
   "outputs": [
    {
     "name": "stdout",
     "output_type": "stream",
     "text": [
      "Your Company\n",
      "123 Your Street \n",
      "Your City, ST 12345 \n",
      "(123) 456 - 7890\n",
      "Product Brochure\n",
      "September 04, 20XX\n",
      "Product Ov erview\n",
      "Lorem ipsum dolor sit amet, consectetuer adipiscing elit, sed diam nonummy nibh euismod\n",
      "tincidunt ut laoreet dolore magna aliquam erat volutpat. Ut wisi enim ad minim veniam, quis\n",
      "nostrud exerci tation ullamcorper suscipit lobortis nisl ut aliquip ex ea commodo consequat.\n",
      "Lorem ipsum\n",
      "Nam liber tempor cum soluta nobis eleifend option\n",
      "congue nihil imperdiet doming id quod mazim\n",
      "placerat facer possim assum. Typi non habent\n",
      "claritatem insitam; est usus legentis in iis qui facit\n",
      "eorum claritatem.\n",
      "Lorem ipsum\n",
      "Duis autem vel eum iriure dolor in hendrerit in\n",
      "vulputate velit esse molestie consequat, vel illum\n",
      "dolore eu feugiat nulla facilisis at vero eros et\n",
      "accumsan.\n",
      "Dolor sit\n",
      "Lorem ipsum dolor sit amet, consectetuer adipiscing elit, sed diam nonummy nibh euismod\n",
      "tincidunt ut laoreet dolore magna aliquam erat volutpat. Ut wisi enim ad minim veniam, quis\n",
      "nostrud exerci tation ullamcorper suscipit lobortis nisl ut aliquip ex ea commodo consequat.\n",
      "\n",
      "2\n",
      "Details\n",
      "Nam liber tempor cum soluta nobis eleifend option congue nihil imperdiet doming id quod\n",
      "mazim placerat facer possim assum. Typi non habent claritatem insitam; est usus legentis in iis\n",
      "qui facit eorum claritatem. Investigationes demonstraverunt lectores legere me lius quod ii\n",
      "legunt saepius. Lorem ipsum dolor sit amet, consectetuer adipiscing elit, sed diam nonummy\n",
      "nibh euismod tincidunt ut laoreet dolore magna aliquam erat volutpat. Ut wisi enim ad minim\n",
      "veniam, quis nostrud exerci tation ullamcorper suscipit lobortis nisl ut aliquip ex ea commodo\n",
      "consequat.\n",
      "Lorem ipsum dolor sit amet, consectetuer adipiscing elit, sed diam nonummy nibh euismod\n",
      "tincidunt ut laoreet dolore magna aliquam erat volutpat. Ut wisi enim ad minim veniam, quis\n",
      "nostrud exerci tation ullamcorper suscipit lobortis nisl ut aliquip ex ea commodo consequat.\n",
      "Duis autem vel eum iriure dolor in hendrerit in vulputate velit esse molestie consequat, vel illum\n",
      "dolore eu feugiat nulla facilisis at vero eros et accumsan.\n",
      "\n"
     ]
    }
   ],
   "source": [
    "pdfobj = Loader.Load(reader=Loader.PDF_READERS.PyPdf2,filePath=r\"SampleDocs/sample-1.pdf\")\n",
    "for page  in pdfobj.pages:\n",
    "    print(page.text) "
   ]
  },
  {
   "cell_type": "code",
   "execution_count": 3,
   "metadata": {},
   "outputs": [
    {
     "name": "stdout",
     "output_type": "stream",
     "text": [
      "Your Company\n",
      "123 Your Street\n",
      "Your City, ST 12345\n",
      "(123) 456 - 7890\n",
      "Product Brochure\n",
      "September 04, 20XX\n",
      "Product Overview\n",
      "Lorem ipsum dolor sit amet, consectetuer adipiscing elit, sed diam nonummy nibh euismod\n",
      "tincidunt ut laoreet dolore magna aliquam erat volutpat. Ut wisi enim ad minim veniam, quis\n",
      "nostrud exerci tation ullamcorper suscipit lobortis nisl ut aliquip ex ea commodo consequat.\n",
      "Lorem ipsum\n",
      "Nam liber tempor cum soluta nobis eleifend option\n",
      "congue nihil imperdiet doming id quod mazim\n",
      "placerat facer possim assum. Typi non habent\n",
      "claritatem insitam; est usus legentis in iis qui facit\n",
      "eorum claritatem.\n",
      "Lorem ipsum\n",
      "Duis autem vel eum iriure dolor in hendrerit in\n",
      "vulputate velit esse molestie consequat, vel illum\n",
      "dolore eu feugiat nulla facilisis at vero eros et\n",
      "accumsan.\n",
      "Dolor sit\n",
      "Lorem ipsum dolor sit amet, consectetuer adipiscing elit, sed diam nonummy nibh euismod\n",
      "tincidunt ut laoreet dolore magna aliquam erat volutpat. Ut wisi enim ad minim veniam, quis\n",
      "nostrud exerci tation ullamcorper suscipit lobortis nisl ut aliquip ex ea commodo consequat.\n",
      "\n",
      "2\n",
      "Details\n",
      "Nam liber tempor cum soluta nobis eleifend option congue nihil imperdiet doming id quod\n",
      "mazim placerat facer possim assum. Typi non habent claritatem insitam; est usus legentis in iis\n",
      "qui facit eorum claritatem. Investigationes demonstraverunt lectores legere me lius quod ii\n",
      "legunt saepius. Lorem ipsum dolor sit amet, consectetuer adipiscing elit, sed diam nonummy\n",
      "nibh euismod tincidunt ut laoreet dolore magna aliquam erat volutpat. Ut wisi enim ad minim\n",
      "veniam, quis nostrud exerci tation ullamcorper suscipit lobortis nisl ut aliquip ex ea commodo\n",
      "consequat.\n",
      "Lorem ipsum dolor sit amet, consectetuer adipiscing elit, sed diam nonummy nibh euismod\n",
      "tincidunt ut laoreet dolore magna aliquam erat volutpat. Ut wisi enim ad minim veniam, quis\n",
      "nostrud exerci tation ullamcorper suscipit lobortis nisl ut aliquip ex ea commodo consequat.\n",
      "Duis autem vel eum iriure dolor in hendrerit in vulputate velit esse molestie consequat, vel illum\n",
      "dolore eu feugiat nulla facilisis at vero eros et accumsan.\n",
      "\n"
     ]
    }
   ],
   "source": [
    "pdfobj = Loader.Load(reader=Loader.PDF_READERS.PyMuPDF,filePath=r\"SampleDocs/sample-1.pdf\")\n",
    "for page  in pdfobj.pages:\n",
    "    print(page.text) "
   ]
  },
  {
   "cell_type": "code",
   "execution_count": null,
   "metadata": {},
   "outputs": [],
   "source": []
  }
 ],
 "metadata": {
  "kernelspec": {
   "display_name": ".env",
   "language": "python",
   "name": "python3"
  },
  "language_info": {
   "codemirror_mode": {
    "name": "ipython",
    "version": 3
   },
   "file_extension": ".py",
   "mimetype": "text/x-python",
   "name": "python",
   "nbconvert_exporter": "python",
   "pygments_lexer": "ipython3",
   "version": "3.11.4"
  }
 },
 "nbformat": 4,
 "nbformat_minor": 2
}
